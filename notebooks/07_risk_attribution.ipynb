{
 "cells": [
  {
   "cell_type": "code",
   "execution_count": 1,
   "id": "b9dd632b",
   "metadata": {},
   "outputs": [
    {
     "name": "stdout",
     "output_type": "stream",
     "text": [
      "✅ Setup complete. Asset returns loaded.\n",
      "\n",
      "Portfolio Mean Return (Daily): 0.0446%\n",
      "Portfolio Volatility (Daily): 1.0446%\n",
      "Z-score for 99% VaR: -2.3263\n",
      "----------------------------------------\n",
      "Total Portfolio 99% Parametric VaR: -2.3856%\n",
      "----------------------------------------\n"
     ]
    }
   ],
   "source": [
    "import pandas as pd\n",
    "import numpy as np\n",
    "import os\n",
    "from scipy.stats import norm\n",
    "\n",
    "# --- 1. Setup ---\n",
    "DATA_DIR = \"data\"\n",
    "# Load individual asset returns\n",
    "asset_returns = pd.read_csv(\n",
    "    os.path.join(DATA_DIR, \"asset_log_returns.csv\"),\n",
    "    index_col='Date',\n",
    "    parse_dates=True\n",
    ")\n",
    "# Define current portfolio weights (equal weight) and confidence level\n",
    "weights = np.array([1/asset_returns.shape[1]] * asset_returns.shape[1])\n",
    "alpha = 0.01 # For 99% VaR\n",
    "\n",
    "print(\"✅ Setup complete. Asset returns loaded.\")\n",
    "\n",
    "# --- 2. Calculate Portfolio Statistics ---\n",
    "# Use the full historical covariance matrix and mean returns\n",
    "cov_matrix = asset_returns.cov()\n",
    "mean_returns = asset_returns.mean()\n",
    "portfolio_mean_return = mean_returns.dot(weights)\n",
    "portfolio_volatility = np.sqrt(weights.T @ cov_matrix @ weights)\n",
    "z_score = norm.ppf(alpha)\n",
    "\n",
    "# Calculate total Parametric VaR (expressed as a negative return)\n",
    "total_var = portfolio_mean_return + portfolio_volatility * z_score\n",
    "\n",
    "print(f\"\\nPortfolio Mean Return (Daily): {portfolio_mean_return*100:.4f}%\")\n",
    "print(f\"Portfolio Volatility (Daily): {portfolio_volatility*100:.4f}%\")\n",
    "print(f\"Z-score for {1-alpha:.0%} VaR: {z_score:.4f}\")\n",
    "print(\"-\" * 40)\n",
    "print(f\"Total Portfolio 99% Parametric VaR: {total_var*100:.4f}%\")\n",
    "print(\"-\" * 40)"
   ]
  },
  {
   "cell_type": "code",
   "execution_count": 2,
   "id": "57e14fe5",
   "metadata": {},
   "outputs": [
    {
     "name": "stdout",
     "output_type": "stream",
     "text": [
      "--- Asset Betas to Portfolio ---\n",
      "AAPL    1.3912\n",
      "GE      1.4668\n",
      "GLD     0.1215\n",
      "HYG     0.4462\n",
      "JPM     1.6646\n",
      "MSFT    1.2925\n",
      "NVDA    2.2099\n",
      "QQQ     1.2354\n",
      "SPY     1.1298\n",
      "TLT    -0.2430\n",
      "UUP    -0.0922\n",
      "XLE     1.3772\n",
      "dtype: float64\n",
      "\n",
      "--- Marginal VaR (MVaR) ---\n",
      "      MVaR (%)\n",
      "AAPL   -3.3809\n",
      "GE     -3.5647\n",
      "GLD    -0.2952\n",
      "HYG    -1.0844\n",
      "JPM    -4.0452\n",
      "MSFT   -3.1411\n",
      "NVDA   -5.3706\n",
      "QQQ    -3.0023\n",
      "SPY    -2.7456\n",
      "TLT     0.5906\n",
      "UUP     0.2241\n",
      "XLE    -3.3469\n"
     ]
    }
   ],
   "source": [
    "# Beta_i = Cov(Asset_i, Portfolio) / Var(Portfolio)\n",
    "# Cov(Asset_i, Portfolio) is the i-th element of (cov_matrix @ weights)\n",
    "beta_to_portfolio = (cov_matrix @ weights) / (portfolio_volatility**2)\n",
    "\n",
    "print(\"--- Asset Betas to Portfolio ---\")\n",
    "print(beta_to_portfolio.round(4))\n",
    "\n",
    "# --- 2. Calculate Marginal VaR (MVaR) ---\n",
    "# We assume 'z_score' is in memory from sub-step 1\n",
    "# MVaR_i = z_score * Cov(Asset_i, Portfolio) / Portfolio_Volatility\n",
    "marginal_var = z_score * (cov_matrix @ weights) / portfolio_volatility\n",
    "\n",
    "# Convert MVaR to percentage terms for easier interpretation\n",
    "mvar_percent = marginal_var * 100\n",
    "\n",
    "print(\"\\n--- Marginal VaR (MVaR) ---\")\n",
    "print(mvar_percent.round(4).to_frame(name='MVaR (%)'))"
   ]
  },
  {
   "cell_type": "code",
   "execution_count": null,
   "id": "7fe266ad",
   "metadata": {},
   "outputs": [],
   "source": []
  }
 ],
 "metadata": {
  "kernelspec": {
   "display_name": "pyt",
   "language": "python",
   "name": "python3"
  },
  "language_info": {
   "codemirror_mode": {
    "name": "ipython",
    "version": 3
   },
   "file_extension": ".py",
   "mimetype": "text/x-python",
   "name": "python",
   "nbconvert_exporter": "python",
   "pygments_lexer": "ipython3",
   "version": "3.11.9"
  }
 },
 "nbformat": 4,
 "nbformat_minor": 5
}
