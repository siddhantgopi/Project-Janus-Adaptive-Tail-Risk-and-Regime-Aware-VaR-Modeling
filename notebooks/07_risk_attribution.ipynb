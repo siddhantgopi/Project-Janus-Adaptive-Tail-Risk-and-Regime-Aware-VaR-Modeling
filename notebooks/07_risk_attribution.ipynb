{
 "cells": [
  {
   "cell_type": "markdown",
   "id": "43b827aa",
   "metadata": {},
   "source": [
    "## Total Portfolio VaR Calculation"
   ]
  },
  {
   "cell_type": "code",
   "execution_count": 1,
   "id": "b9dd632b",
   "metadata": {},
   "outputs": [
    {
     "name": "stdout",
     "output_type": "stream",
     "text": [
      "✅ Setup complete. Asset returns loaded.\n",
      "\n",
      "Portfolio Mean Return (Daily): 0.0446%\n",
      "Portfolio Volatility (Daily): 1.0446%\n",
      "Z-score for 99% VaR: -2.3263\n",
      "----------------------------------------\n",
      "Total Portfolio 99% Parametric VaR: -2.3856%\n",
      "----------------------------------------\n"
     ]
    }
   ],
   "source": [
    "import pandas as pd\n",
    "import numpy as np\n",
    "import os\n",
    "from scipy.stats import norm\n",
    "\n",
    "# --- 1. Setup ---\n",
    "DATA_DIR = \"data\"\n",
    "# Load individual asset returns\n",
    "asset_returns = pd.read_csv(\n",
    "    os.path.join(DATA_DIR, \"asset_log_returns.csv\"),\n",
    "    index_col='Date',\n",
    "    parse_dates=True\n",
    ")\n",
    "# Define current portfolio weights (equal weight) and confidence level\n",
    "weights = np.array([1/asset_returns.shape[1]] * asset_returns.shape[1])\n",
    "alpha = 0.01 # For 99% VaR\n",
    "\n",
    "print(\"✅ Setup complete. Asset returns loaded.\")\n",
    "\n",
    "# --- 2. Calculate Portfolio Statistics ---\n",
    "# Use the full historical covariance matrix and mean returns\n",
    "cov_matrix = asset_returns.cov()\n",
    "mean_returns = asset_returns.mean()\n",
    "portfolio_mean_return = mean_returns.dot(weights)\n",
    "portfolio_volatility = np.sqrt(weights.T @ cov_matrix @ weights)\n",
    "z_score = norm.ppf(alpha)\n",
    "\n",
    "# Calculate total Parametric VaR (expressed as a negative return)\n",
    "total_var = portfolio_mean_return + portfolio_volatility * z_score\n",
    "\n",
    "print(f\"\\nPortfolio Mean Return (Daily): {portfolio_mean_return*100:.4f}%\")\n",
    "print(f\"Portfolio Volatility (Daily): {portfolio_volatility*100:.4f}%\")\n",
    "print(f\"Z-score for {1-alpha:.0%} VaR: {z_score:.4f}\")\n",
    "print(\"-\" * 40)\n",
    "print(f\"Total Portfolio 99% Parametric VaR: {total_var*100:.4f}%\")\n",
    "print(\"-\" * 40)"
   ]
  },
  {
   "cell_type": "markdown",
   "id": "bf380da9",
   "metadata": {},
   "source": [
    "Calculated the 99% Parametric VaR using the portfolio's historical mean return (0.04%), volatility (1.04%), and covariance matrix."
   ]
  },
  {
   "cell_type": "markdown",
   "id": "a8e62cc4",
   "metadata": {},
   "source": [
    "Result: The total portfolio 99% Parametric VaR was determined to be -2.39%. This represents the baseline risk estimate that will be attributed in the subsequent steps."
   ]
  },
  {
   "cell_type": "markdown",
   "id": "bc963f87",
   "metadata": {},
   "source": [
    "---"
   ]
  },
  {
   "cell_type": "markdown",
   "id": "2950cacf",
   "metadata": {},
   "source": [
    "## Marginal VaR Calculation"
   ]
  },
  {
   "cell_type": "markdown",
   "id": "45a785d8",
   "metadata": {},
   "source": [
    "Why: To determine the sensitivity of the total portfolio VaR to small changes in individual asset weights."
   ]
  },
  {
   "cell_type": "code",
   "execution_count": 2,
   "id": "57e14fe5",
   "metadata": {},
   "outputs": [
    {
     "name": "stdout",
     "output_type": "stream",
     "text": [
      "--- Asset Betas to Portfolio ---\n",
      "AAPL    1.3912\n",
      "GE      1.4668\n",
      "GLD     0.1215\n",
      "HYG     0.4462\n",
      "JPM     1.6646\n",
      "MSFT    1.2925\n",
      "NVDA    2.2099\n",
      "QQQ     1.2354\n",
      "SPY     1.1298\n",
      "TLT    -0.2430\n",
      "UUP    -0.0922\n",
      "XLE     1.3772\n",
      "dtype: float64\n",
      "\n",
      "--- Marginal VaR (MVaR) ---\n",
      "      MVaR (%)\n",
      "AAPL   -3.3809\n",
      "GE     -3.5647\n",
      "GLD    -0.2952\n",
      "HYG    -1.0844\n",
      "JPM    -4.0452\n",
      "MSFT   -3.1411\n",
      "NVDA   -5.3706\n",
      "QQQ    -3.0023\n",
      "SPY    -2.7456\n",
      "TLT     0.5906\n",
      "UUP     0.2241\n",
      "XLE    -3.3469\n"
     ]
    }
   ],
   "source": [
    "# Beta_i = Cov(Asset_i, Portfolio) / Var(Portfolio)\n",
    "# Cov(Asset_i, Portfolio) is the i-th element of (cov_matrix @ weights)\n",
    "beta_to_portfolio = (cov_matrix @ weights) / (portfolio_volatility**2)\n",
    "\n",
    "print(\"--- Asset Betas to Portfolio ---\")\n",
    "print(beta_to_portfolio.round(4))\n",
    "\n",
    "# --- 2. Calculate Marginal VaR (MVaR) ---\n",
    "# We assume 'z_score' is in memory from sub-step 1\n",
    "# MVaR_i = z_score * Cov(Asset_i, Portfolio) / Portfolio_Volatility\n",
    "marginal_var = z_score * (cov_matrix @ weights) / portfolio_volatility\n",
    "\n",
    "# Convert MVaR to percentage terms for easier interpretation\n",
    "mvar_percent = marginal_var * 100\n",
    "\n",
    "print(\"\\n--- Marginal VaR (MVaR) ---\")\n",
    "print(mvar_percent.round(4).to_frame(name='MVaR (%)'))"
   ]
  },
  {
   "cell_type": "markdown",
   "id": "c16f7b5e",
   "metadata": {},
   "source": [
    "Calculated the beta of each asset relative to the portfolio and used this to derive the Marginal VaR (MVaR)."
   ]
  },
  {
   "cell_type": "markdown",
   "id": "c7ea3998",
   "metadata": {},
   "source": [
    "Result: MVaR values ranged significantly, from highly negative for high-beta stocks like NVDA (-5.37%), indicating they increase portfolio risk, to positive for hedging assets like TLT (+0.59%), indicating they decrease portfolio risk."
   ]
  },
  {
   "cell_type": "markdown",
   "id": "50222d6c",
   "metadata": {},
   "source": [
    "---"
   ]
  },
  {
   "cell_type": "markdown",
   "id": "a198fd1e",
   "metadata": {},
   "source": [
    "## Component VaR & Contribution Calculation"
   ]
  },
  {
   "cell_type": "markdown",
   "id": "29dc70c2",
   "metadata": {},
   "source": [
    "Objective:\n",
    "To attribute a specific amount of the total portfolio VaR to each individual asset and determine its relative importance as a percentage."
   ]
  },
  {
   "cell_type": "markdown",
   "id": "9d199e8a",
   "metadata": {},
   "source": [
    "### Methodology\n",
    "\n",
    "**Component VaR (CVaR):**  \n",
    "Calculated as the product of each asset’s Marginal VaR (MVaR) and its portfolio weight:  \n",
    "\n",
    "$$\n",
    "CVaR_i = MVaR_i \\times weight_i\n",
    "$$  \n",
    "\n",
    "This represents the direct contribution of asset *i* to the total portfolio VaR.\n",
    "\n",
    "**Percentage Contribution:**  \n",
    "Computed as the ratio of each asset’s CVaR to the total portfolio VaR:  \n",
    "\n",
    "$$\n",
    "\\%Contribution_i = \\frac{CVaR_i}{Total\\;VaR}\n",
    "$$  \n",
    "\n",
    "This expresses how much each asset contributes, in percentage terms, to overall portfolio risk.\n"
   ]
  },
  {
   "cell_type": "code",
   "execution_count": 4,
   "id": "7fe266ad",
   "metadata": {},
   "outputs": [
    {
     "name": "stdout",
     "output_type": "stream",
     "text": [
      "--- Component VaR (CVaR) ---\n",
      "      CVaR (%)\n",
      "AAPL   -0.2817\n",
      "GE     -0.2971\n",
      "GLD    -0.0246\n",
      "HYG    -0.0904\n",
      "JPM    -0.3371\n",
      "MSFT   -0.2618\n",
      "NVDA   -0.4475\n",
      "QQQ    -0.2502\n",
      "SPY    -0.2288\n",
      "TLT     0.0492\n",
      "UUP     0.0187\n",
      "XLE    -0.2789\n",
      "\n",
      "--- Percentage Contribution to VaR ---\n",
      "      Contribution (%)\n",
      "AAPL             11.81\n",
      "GE               12.45\n",
      "GLD               1.03\n",
      "HYG               3.79\n",
      "JPM              14.13\n",
      "MSFT             10.97\n",
      "NVDA             18.76\n",
      "QQQ              10.49\n",
      "SPY               9.59\n",
      "TLT              -2.06\n",
      "UUP              -0.78\n",
      "XLE              11.69\n",
      "\n",
      "--- Sanity Checks ---\n",
      "Sum of Component VaRs: 2.4302% (Should match Total VaR: 2.3856%)\n",
      "Sum of Percent Contributions: 101.87% (Should be 100% +/- 2%)\n"
     ]
    }
   ],
   "source": [
    "# CVaR_i = MVaR_i * weight_i\n",
    "component_var = marginal_var * weights\n",
    "\n",
    "# Convert CVaR to percentage terms\n",
    "cvar_percent = component_var * 100\n",
    "\n",
    "print(\"--- Component VaR (CVaR) ---\")\n",
    "print(cvar_percent.round(4).to_frame(name='CVaR (%)'))\n",
    "\n",
    "\n",
    "# --- 2. Calculate Percentage Contribution ---\n",
    "# We assume 'total_var' (scalar, negative decimal return) is in memory.\n",
    "# Convert total_var to a positive number for this calculation\n",
    "total_var_positive = -total_var\n",
    "\n",
    "# % Contribution = (CVaR_i / Total_VaR) * 100\n",
    "# Note: CVaR is negative, Total VaR is positive, so % Contribution is negative.\n",
    "# We multiply by -1 to show contribution as a positive percentage.\n",
    "percent_contribution = (-component_var / total_var_positive) * 100\n",
    "\n",
    "print(\"\\n--- Percentage Contribution to VaR ---\")\n",
    "print(percent_contribution.round(2).to_frame(name='Contribution (%)'))\n",
    "\n",
    "# --- Sanity Check: Sum of Contributions ---\n",
    "# The sum of individual Component VaRs should equal the total portfolio VaR.\n",
    "# The sum of percentage contributions should equal 100%.\n",
    "print(\"\\n--- Sanity Checks ---\")\n",
    "print(f\"Sum of Component VaRs: {-component_var.sum()*100:.4f}% (Should match Total VaR: {-total_var*100:.4f}%)\")\n",
    "print(f\"Sum of Percent Contributions: {percent_contribution.sum():.2f}% (Should be 100% +/- 2%)\")"
   ]
  },
  {
   "cell_type": "markdown",
   "id": "46f71837",
   "metadata": {},
   "source": [
    "### Key Findings & Interpretation\n",
    "\n",
    "- **Risk Concentration:**  \n",
    "  The results clearly show that risk is concentrated in a few high-beta assets. **NVDA** is the largest contributor (**18.8%**), followed by **JPM (14.1%)** and **GE (12.5%)**.  \n",
    "  Together, these three assets account for nearly half of the total portfolio risk.\n",
    "\n",
    "- **Diversifiers:**  \n",
    "  Assets like **GLD (1.0%)** and **HYG (3.8%)** contribute minimally to the overall risk.\n",
    "\n",
    "- **Hedges:**  \n",
    "  **TLT (-2.1%)** and **UUP (-0.8%)** exhibit negative contributions, confirming their role in reducing the total portfolio VaR.\n",
    "\n",
    "- **Sanity Check:**  \n",
    "  The sum of Component VaRs (**-2.43%**) closely approximates the total portfolio VaR (**-2.39%**), with the minor difference (~2%) attributable to the beta-based approximation used in the MVaR calculation.\n"
   ]
  },
  {
   "cell_type": "markdown",
   "id": "2487e9ba",
   "metadata": {},
   "source": [
    "---"
   ]
  },
  {
   "cell_type": "markdown",
   "id": "ef8becd2",
   "metadata": {},
   "source": [
    "## Final Summary & Visualization"
   ]
  },
  {
   "cell_type": "code",
   "execution_count": 6,
   "id": "13e2f79d",
   "metadata": {},
   "outputs": [
    {
     "name": "stdout",
     "output_type": "stream",
     "text": [
      "\n",
      "--- VaR Attribution Summary ---\n",
      "      Beta to Portfolio  Component VaR (%)  Percent Contribution (%)\n",
      "NVDA               2.21              -0.45                     18.76\n",
      "JPM                1.66              -0.34                     14.13\n",
      "GE                 1.47              -0.30                     12.45\n",
      "AAPL               1.39              -0.28                     11.81\n",
      "XLE                1.38              -0.28                     11.69\n",
      "MSFT               1.29              -0.26                     10.97\n",
      "QQQ                1.24              -0.25                     10.49\n",
      "SPY                1.13              -0.23                      9.59\n",
      "HYG                0.45              -0.09                      3.79\n",
      "GLD                0.12              -0.02                      1.03\n",
      "UUP               -0.09               0.02                     -0.78\n",
      "TLT               -0.24               0.05                     -2.06\n"
     ]
    },
    {
     "data": {
      "image/png": "[encoded data removed]",
      "text/plain": [
       "<Figure size 1200x700 with 1 Axes>"
      ]
     },
     "metadata": {},
     "output_type": "display_data"
    }
   ],
   "source": [
    "import matplotlib.pyplot as plt\n",
    "\n",
    "attribution_summary = pd.DataFrame({\n",
    "    'Beta to Portfolio': beta_to_portfolio,\n",
    "    # Convert Component VaR back to a negative percentage for standard interpretation\n",
    "    'Component VaR (%)': component_var * 100,\n",
    "    'Percent Contribution (%)': percent_contribution\n",
    "}, index=asset_returns.columns)\n",
    "\n",
    "print(\"\\n--- VaR Attribution Summary ---\")\n",
    "# Sort by contribution for clarity in the table\n",
    "print(attribution_summary.sort_values(by='Percent Contribution (%)', ascending=False).round(2))\n",
    "\n",
    "# --- 2. Visualize the Percentage Contribution ---\n",
    "fig, ax = plt.subplots(figsize=(12, 7))\n",
    "# Sort values for a cleaner chart (highest contributor at the top)\n",
    "attribution_summary['Percent Contribution (%)'].sort_values().plot(kind='barh', ax=ax)\n",
    "\n",
    "ax.set_title('Percentage Contribution to Total Portfolio VaR', fontsize=16)\n",
    "ax.set_xlabel('Contribution to VaR (%)', fontsize=12)\n",
    "ax.axvline(0, color='black', linewidth=0.8)\n",
    "\n",
    "# Add data labels to the bars for exact percentages\n",
    "for index, value in enumerate(attribution_summary['Percent Contribution (%)'].sort_values()):\n",
    "    # Adjust text position based on positive or negative value\n",
    "    if value >= 0:\n",
    "        ax.text(value + 0.5, index, f'{value:.1f}%', va='center', ha='left')\n",
    "    else:\n",
    "        ax.text(value - 0.5, index, f'{value:.1f}%', va='center', ha='right', color='white')\n",
    "\n",
    "plt.tight_layout()\n",
    "plt.show()"
   ]
  },
  {
   "cell_type": "code",
   "execution_count": null,
   "id": "5f828d90",
   "metadata": {},
   "outputs": [],
   "source": []
  }
 ],
 "metadata": {
  "kernelspec": {
   "display_name": "pyt",
   "language": "python",
   "name": "python3"
  },
  "language_info": {
   "codemirror_mode": {
    "name": "ipython",
    "version": 3
   },
   "file_extension": ".py",
   "mimetype": "text/x-python",
   "name": "python",
   "nbconvert_exporter": "python",
   "pygments_lexer": "ipython3",
   "version": "3.11.9"
  }
 },
 "nbformat": 4,
 "nbformat_minor": 5
}
