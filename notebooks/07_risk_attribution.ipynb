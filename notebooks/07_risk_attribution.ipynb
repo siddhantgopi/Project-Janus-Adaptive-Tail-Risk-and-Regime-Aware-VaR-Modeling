{
 "cells": [
  {
   "cell_type": "code",
   "execution_count": 1,
   "id": "b9dd632b",
   "metadata": {},
   "outputs": [
    {
     "name": "stdout",
     "output_type": "stream",
     "text": [
      "✅ Setup complete. Asset returns loaded.\n",
      "\n",
      "Portfolio Mean Return (Daily): 0.0446%\n",
      "Portfolio Volatility (Daily): 1.0446%\n",
      "Z-score for 99% VaR: -2.3263\n",
      "----------------------------------------\n",
      "Total Portfolio 99% Parametric VaR: -2.3856%\n",
      "----------------------------------------\n"
     ]
    }
   ],
   "source": [
    "import pandas as pd\n",
    "import numpy as np\n",
    "import os\n",
    "from scipy.stats import norm\n",
    "\n",
    "# --- 1. Setup ---\n",
    "DATA_DIR = \"data\"\n",
    "# Load individual asset returns\n",
    "asset_returns = pd.read_csv(\n",
    "    os.path.join(DATA_DIR, \"asset_log_returns.csv\"),\n",
    "    index_col='Date',\n",
    "    parse_dates=True\n",
    ")\n",
    "# Define current portfolio weights (equal weight) and confidence level\n",
    "weights = np.array([1/asset_returns.shape[1]] * asset_returns.shape[1])\n",
    "alpha = 0.01 # For 99% VaR\n",
    "\n",
    "print(\"✅ Setup complete. Asset returns loaded.\")\n",
    "\n",
    "# --- 2. Calculate Portfolio Statistics ---\n",
    "# Use the full historical covariance matrix and mean returns\n",
    "cov_matrix = asset_returns.cov()\n",
    "mean_returns = asset_returns.mean()\n",
    "portfolio_mean_return = mean_returns.dot(weights)\n",
    "portfolio_volatility = np.sqrt(weights.T @ cov_matrix @ weights)\n",
    "z_score = norm.ppf(alpha)\n",
    "\n",
    "# Calculate total Parametric VaR (expressed as a negative return)\n",
    "total_var = portfolio_mean_return + portfolio_volatility * z_score\n",
    "\n",
    "print(f\"\\nPortfolio Mean Return (Daily): {portfolio_mean_return*100:.4f}%\")\n",
    "print(f\"Portfolio Volatility (Daily): {portfolio_volatility*100:.4f}%\")\n",
    "print(f\"Z-score for {1-alpha:.0%} VaR: {z_score:.4f}\")\n",
    "print(\"-\" * 40)\n",
    "print(f\"Total Portfolio 99% Parametric VaR: {total_var*100:.4f}%\")\n",
    "print(\"-\" * 40)"
   ]
  },
  {
   "cell_type": "code",
   "execution_count": null,
   "id": "57e14fe5",
   "metadata": {},
   "outputs": [],
   "source": []
  }
 ],
 "metadata": {
  "kernelspec": {
   "display_name": "pyt",
   "language": "python",
   "name": "python3"
  },
  "language_info": {
   "codemirror_mode": {
    "name": "ipython",
    "version": 3
   },
   "file_extension": ".py",
   "mimetype": "text/x-python",
   "name": "python",
   "nbconvert_exporter": "python",
   "pygments_lexer": "ipython3",
   "version": "3.11.9"
  }
 },
 "nbformat": 4,
 "nbformat_minor": 5
}
